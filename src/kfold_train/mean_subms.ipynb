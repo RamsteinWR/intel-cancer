{
 "cells": [
  {
   "cell_type": "code",
   "execution_count": 1,
   "metadata": {
    "collapsed": true,
    "deletable": true,
    "editable": true
   },
   "outputs": [],
   "source": [
    "import numpy as np\n",
    "import pandas as pd\n",
    "\n",
    "import os\n",
    "from os.path import join"
   ]
  },
  {
   "cell_type": "markdown",
   "metadata": {
    "deletable": true,
    "editable": true
   },
   "source": [
    "# Average KFolds"
   ]
  },
  {
   "cell_type": "code",
   "execution_count": 2,
   "metadata": {
    "collapsed": true,
    "deletable": true,
    "editable": true
   },
   "outputs": [],
   "source": [
    "train_name = '10fold_vgg16_003'\n",
    "kfold_data_path = '/workdir/data/kfold_train/{}'.format(train_name)\n",
    "sample_subm = '/workdir/data/sample_submission.csv'"
   ]
  },
  {
   "cell_type": "code",
   "execution_count": 3,
   "metadata": {
    "collapsed": false,
    "deletable": true,
    "editable": true
   },
   "outputs": [
    {
     "name": "stdout",
     "output_type": "stream",
     "text": [
      "mean_subm_0.675449.csv [0.7214664551946852, 0.7525825435168123, 0.6584753247156535, 0.6036729151699819, 0.7460851387397663, 0.6883440580861322, 0.7269858331293673, 0.6679752574485986, 0.5792170187381849, 0.6096851708126717]\n"
     ]
    }
   ],
   "source": [
    "subm = pd.read_csv(sample_subm, index_col=0)\n",
    "subm.iloc[:, :] = 0\n",
    "folds = [fold for fold in os.listdir(kfold_data_path) if fold.startswith('fold_')]\n",
    "scores = []\n",
    "\n",
    "for fold in folds:\n",
    "    fold_subm_path = join(kfold_data_path, fold, 'subm.csv')\n",
    "    fold_subm = pd.read_csv(fold_subm_path, index_col=0)\n",
    "    subm += fold_subm\n",
    "    \n",
    "    with open(join(kfold_data_path, fold, 'history.txt')) as f:\n",
    "        score = eval(f.readline())['best_val_loss']\n",
    "        scores.append(score)\n",
    "    \n",
    "subm /= len(folds)\n",
    "mean_score = np.mean(scores)\n",
    "subm_name = 'mean_subm_{:.6f}.csv'.format(mean_score)\n",
    "subm.to_csv(join(kfold_data_path, subm_name))\n",
    "print(subm_name, scores)"
   ]
  },
  {
   "cell_type": "markdown",
   "metadata": {
    "deletable": true,
    "editable": true
   },
   "source": [
    "# Average models"
   ]
  },
  {
   "cell_type": "code",
   "execution_count": 6,
   "metadata": {
    "collapsed": true,
    "deletable": true,
    "editable": true
   },
   "outputs": [],
   "source": [
    "subm_paths = [\n",
    "    '/workdir/data/kfold_train/10fold_vgg16_001/mean_subm_0.659123.csv',\n",
    "    '/workdir/data/kfold_train/10fold_vgg16_002/mean_subm_0.655296.csv'\n",
    "]\n",
    "\n",
    "subm = pd.read_csv(sample_subm, index_col=0)\n",
    "subm.iloc[:, :] = 0\n",
    "for path in subm_paths:\n",
    "    subm += pd.read_csv(path, index_col=0)\n",
    "subm /= len(subm_paths)"
   ]
  },
  {
   "cell_type": "code",
   "execution_count": 7,
   "metadata": {
    "collapsed": false,
    "deletable": true,
    "editable": true
   },
   "outputs": [],
   "source": [
    "subm.to_csv('/workdir/data/submissions/mean_subm_vgg16_001_002.csv')"
   ]
  },
  {
   "cell_type": "code",
   "execution_count": null,
   "metadata": {
    "collapsed": true,
    "deletable": true,
    "editable": true
   },
   "outputs": [],
   "source": []
  }
 ],
 "metadata": {
  "kernelspec": {
   "display_name": "Python 3",
   "language": "python",
   "name": "python3"
  },
  "language_info": {
   "codemirror_mode": {
    "name": "ipython",
    "version": 3
   },
   "file_extension": ".py",
   "mimetype": "text/x-python",
   "name": "python",
   "nbconvert_exporter": "python",
   "pygments_lexer": "ipython3",
   "version": "3.5.3"
  }
 },
 "nbformat": 4,
 "nbformat_minor": 2
}
